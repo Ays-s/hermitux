{
 "cells": [
  {
   "cell_type": "code",
   "execution_count": 4,
   "metadata": {},
   "outputs": [],
   "source": [
    "import matplotlib\n",
    "import numpy as np\n",
    "import matplotlib.pyplot as plt\n",
    "%matplotlib inline  "
   ]
  },
  {
   "cell_type": "code",
   "execution_count": 2,
   "metadata": {},
   "outputs": [],
   "source": [
    "res_linux = [14405692, 14081966, 13955332, 14067852, 14135586, 14036106, \\\n",
    "             14290898, 14179994, 13942806, 14094688]\n",
    "res_kvm_catch = [61172602, 62802182, 167445942, 161251990, 167225052, \\\n",
    "                 156427462, 170259560, 175406026, 97091170, 63631592]\n",
    "res_uhyve_catch = [49010934, 48194500, 48555946, 48765228, 47947304, \\\n",
    "                   48476300, 49024454, 49050998, 49986266, 51898732]\n",
    "res_kvm_call = [226152, 226164, 226198, 226174, 467146, 225978, 226174, \\\n",
    "                226158, 225984, 226158]\n",
    "res_uhyve_call = [45154, 45274, 46320, 45266, 45202, 45166, 46378, 98784, \\\n",
    "                   45276, 45290]"
   ]
  },
  {
   "cell_type": "code",
   "execution_count": 5,
   "metadata": {},
   "outputs": [],
   "source": [
    "linux_mean = np.mean(res_linux)\n",
    "kvm_catch_mean = np.mean(res_kvm_catch)\n",
    "uhyve_catch_mean = np.mean(res_uhyve_catch)\n",
    "kvm_call_mean = np.mean(res_kvm_call)\n",
    "uhyve_call_mean = np.mean(res_uhyve_call)\n",
    "\n",
    "linux_std = np.std(res_linux)\n",
    "kvm_catch_std = np.std(res_kvm_catch)\n",
    "uhyve_catch_std = np.std(res_uhyve_catch)\n",
    "kvm_call_std = np.std(res_kvm_call)\n",
    "uhyve_call_std = np.std(res_uhyve_call)\n",
    "\n",
    "means = [linux_mean, kvm_catch_mean, uhyve_catch_mean, kvm_call_mean, \\\n",
    "         uhyve_call_mean]\n",
    "stdevs = [linux_std, kvm_catch_std, uhyve_catch_std, kvm_call_std, \\\n",
    "          uhyve_call_std]"
   ]
  },
  {
   "cell_type": "code",
   "execution_count": 6,
   "metadata": {},
   "outputs": [
    {
     "data": {
      "image/png": "[encoded data removed]",
      "text/plain": [
       "<matplotlib.figure.Figure at 0x7f342d3bdc90>"
      ]
     },
     "metadata": {},
     "output_type": "display_data"
    }
   ],
   "source": [
    "N = 5\n",
    "ind = np.arange(N)\n",
    "\n",
    "fig, ax = plt.subplots()\n",
    "ax.grid()\n",
    "ax.set_axisbelow(True)\n",
    "plt.yscale('symlog')\n",
    "plt.title(\"10k calls to ioctl() in a loop - avg of 10 runs\")\n",
    "#ax.set_xticklabels([\"NULL\", \"Native Linux\", \"KVM (catch)\", \\\n",
    "#                   \"uhyve (catch)\", \"KVM (call)\", \"uhyve (call)\"])\n",
    "plt.xticks(ind, [\"Native Linux\", \"KVM (catch)\", \"uhyve (catch)\", \\\n",
    "    \"KVM (call)\", \"uhyve (call)\"], rotation=15)\n",
    "ax.set_ylabel('Total loop duration (cycles)')\n",
    "\n",
    "plt.axhline(linux_mean, color=\"skyblue\", lw=1)\n",
    "\n",
    "rects1 = ax.bar(ind, means, yerr=stdevs, color=[\"skyblue\", \"moccasin\", \\\n",
    "    \"moccasin\", \"lightcoral\", \"lightcoral\"])\n",
    "\n",
    "plt.savefig(\"ioctl.pdf\")\n"
   ]
  }
 ],
 "metadata": {
  "kernelspec": {
   "display_name": "Python 2",
   "language": "python",
   "name": "python2"
  },
  "language_info": {
   "codemirror_mode": {
    "name": "ipython",
    "version": 2
   },
   "file_extension": ".py",
   "mimetype": "text/x-python",
   "name": "python",
   "nbconvert_exporter": "python",
   "pygments_lexer": "ipython2",
   "version": "2.7.13"
  }
 },
 "nbformat": 4,
 "nbformat_minor": 2
}
