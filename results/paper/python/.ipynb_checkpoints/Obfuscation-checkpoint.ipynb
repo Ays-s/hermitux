{
 "cells": [
  {
   "cell_type": "code",
   "execution_count": 68,
   "metadata": {},
   "outputs": [
    {
     "data": {
      "text/plain": [
       "<matplotlib.legend.Legend at 0x7f006b6b8610>"
      ]
     },
     "execution_count": 68,
     "metadata": {},
     "output_type": "execute_result"
    },
    {
     "data": {
      "image/png": "[encoded data removed]",
      "text/plain": [
       "<matplotlib.figure.Figure at 0x7f006b3c6650>"
      ]
     },
     "metadata": {},
     "output_type": "display_data"
    }
   ],
   "source": [
    "import matplotlib\n",
    "import numpy as np\n",
    "import matplotlib.pyplot as plt\n",
    "import matplotlib.patches as mpatches\n",
    "%matplotlib inline \n",
    "\n",
    "matplotlib.rcParams.update({'font.size': 15})\n",
    "\n",
    "N = 2\n",
    "ind = np.arange(N)\n",
    "\n",
    "# in seconds\n",
    "gcc_non_stripped_linux_avg = 44.554\n",
    "gcc_stripped_linux_avg = 44.555\n",
    "llvm_linux_avg = 37.724\n",
    "llvm_obfuscated_linux_avg = 109.64\n",
    "gcc_non_stripped_hermitux_avg = 44.502\n",
    "gcc_stripped_hermitux_avg = 44.577\n",
    "llvm_hermitux_avg = 38.294\n",
    "llvm_obfuscated_hermitux_avg = 109.924\n",
    "\n",
    "gcc_non_stripped_linux_std = 0.151231977805989\n",
    "gcc_stripped_linux_std = 0.182528536581726\n",
    "llvm_linux_std = 0.070269323162941\n",
    "llvm_obfuscated_linux_std = 0.670906517747113\n",
    "gcc_non_stripped_hermitux_std = 0.13587576024524\n",
    "gcc_stripped_hermitux_std = 0.150262732867763\n",
    "llvm_hermitux_std = 0.302294925895593\n",
    "llvm_obfuscated_hermitux_std = 1.16465731726833\n",
    "\n",
    "linux_means = \n",
    "\n",
    "#means_gcc_non_stripped = [gcc_non_stripped_linux_avg, gcc_non_stripped_hermitux_avg]\n",
    "#stdevs_gcc_non_stripped = [gcc_non_stripped_linux_std, gcc_non_stripped_hermitux_std]\n",
    "#means_gcc_stripped = [gcc_stripped_linux_avg, gcc_stripped_hermitux_avg]\n",
    "#stdevs_gcc_stripped = [gcc_stripped_linux_std, gcc_stripped_hermitux_std]\n",
    "#means_llvm = [llvm_linux_avg, llvm_hermitux_avg]\n",
    "#stdevs_llvm = [llvm_linux_std, llvm_hermitux_std]\n",
    "#means_llvm_obfuscated = [llvm_obfuscated_linux_avg, llvm_obfuscated_hermitux_avg]\n",
    "#stdevs_llvm_obfuscated = [llvm_obfuscated_linux_std, llvm_obfuscated_hermitux_std]\n",
    "\n",
    "fig, ax = plt.subplots()\n",
    "ax.grid()\n",
    "ax.set_axisbelow(True)\n",
    "\n",
    "plt.ylabel(\"Execution time (s)\")\n",
    "plt.xticks((.5, 3.5, 6.5, 9.5), (\"GCC non-\\nstripped\", \"GCC\\nstripped\", \"Clang\", \"Clang\\nobfuscated\"))\n",
    "\n",
    "rects1 = ax.bar([0, 1], means_gcc_non_stripped, yerr=stdevs_gcc_non_stripped, hatch=\"//\", \\\n",
    "                color=[\"skyblue\", \"moccasin\"])\n",
    "rects2 = ax.bar([3, 4], means_gcc_stripped, yerr=stdevs_gcc_stripped, color=[\"skyblue\", \"moccasin\"])\n",
    "rects3 = ax.bar([6, 7], means_llvm, yerr=stdevs_llvm, color=[\"skyblue\", \"moccasin\"])\n",
    "rects4 = ax.bar([9, 10], means_llvm_obfuscated, yerr=stdevs_llvm_obfuscated, color=[\"skyblue\", \"moccasin\"])\n",
    "\n",
    "l1 = mpatches.Patch(color='skyblue', label='Linux')\n",
    "l2 = mpatches.Patch(color='moccasin', label='HermiTux')\n",
    "plt.legend(handles=[l1, l2])\n",
    "\n",
    "\n"
   ]
  }
 ],
 "metadata": {
  "kernelspec": {
   "display_name": "Python 2",
   "language": "python",
   "name": "python2"
  },
  "language_info": {
   "codemirror_mode": {
    "name": "ipython",
    "version": 2
   },
   "file_extension": ".py",
   "mimetype": "text/x-python",
   "name": "python",
   "nbconvert_exporter": "python",
   "pygments_lexer": "ipython2",
   "version": "2.7.13"
  }
 },
 "nbformat": 4,
 "nbformat_minor": 2
}
