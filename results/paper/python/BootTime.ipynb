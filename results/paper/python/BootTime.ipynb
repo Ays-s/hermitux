{
 "cells": [
  {
   "cell_type": "code",
   "execution_count": 68,
   "metadata": {},
   "outputs": [
    {
     "data": {
      "image/png": "[encoded data removed]",
      "text/plain": [
       "<matplotlib.figure.Figure at 0x7f7d5bbd1890>"
      ]
     },
     "metadata": {},
     "output_type": "display_data"
    }
   ],
   "source": [
    "import matplotlib\n",
    "import numpy as np\n",
    "import matplotlib.pyplot as plt\n",
    "%matplotlib inline \n",
    "\n",
    "matplotlib.rcParams.update({'font.size': 15})\n",
    "\n",
    "N = 4\n",
    "ind = np.arange(N)\n",
    "\n",
    "# In seconds\n",
    "linux_avg = 0.0002695\n",
    "hermitux_avg = 0.0338588\n",
    "osv_avg = 1.4458595\n",
    "rump_avg = 0.5925802\n",
    "means = [linux_avg, hermitux_avg, osv_avg, rump_avg]\n",
    "\n",
    "linux_stdev = 0.0000228095983694974\n",
    "hermitux_stdev = 0.000905952635505\n",
    "osv_stdev = 0.035844175551189\n",
    "rump_stedv = 0.01696564475508\n",
    "stdevs = [linux_stdev, hermitux_stdev, osv_stdev, rump_stedv]\n",
    "\n",
    "fig, ax = plt.subplots()\n",
    "ax.grid()\n",
    "ax.set_axisbelow(True)\n",
    "\n",
    "ax.set_yscale('symlog', linthreshy=0.001)\n",
    "#plt.title(\"Boot + destruction time comparison\")\n",
    "\n",
    "plt.xticks(ind, [\"Linux\", \"HermiTux\", \"OSv\", \\\n",
    "    \"Rump\"])\n",
    "plt.ylabel(\"Sum of boot and\\ndestruction time (s)\")\n",
    "\n",
    "rects1 = ax.bar(ind, means, yerr=stdevs, color=[\"skyblue\", \"moccasin\", \"lightcoral\", \"forestgreen\"], \\\n",
    "                edgecolor=['black', 'black', 'black', 'black'])\n",
    "\n",
    "fig = matplotlib.pyplot.gcf()\n",
    "fig.subplots_adjust(left=0.2)\n",
    "fig.set_size_inches(7,3)\n",
    "\n",
    "plt.savefig(\"BootTime.pdf\")\n",
    "\n"
   ]
  },
  {
   "cell_type": "code",
   "execution_count": null,
   "metadata": {},
   "outputs": [],
   "source": []
  }
 ],
 "metadata": {
  "kernelspec": {
   "display_name": "Python 2",
   "language": "python",
   "name": "python2"
  },
  "language_info": {
   "codemirror_mode": {
    "name": "ipython",
    "version": 2
   },
   "file_extension": ".py",
   "mimetype": "text/x-python",
   "name": "python",
   "nbconvert_exporter": "python",
   "pygments_lexer": "ipython2",
   "version": "2.7.13"
  }
 },
 "nbformat": 4,
 "nbformat_minor": 2
}
