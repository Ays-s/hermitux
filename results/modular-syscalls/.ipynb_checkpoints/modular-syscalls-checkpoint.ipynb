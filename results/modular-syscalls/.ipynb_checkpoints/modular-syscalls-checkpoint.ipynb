{
 "cells": [
  {
   "cell_type": "code",
   "execution_count": 22,
   "metadata": {},
   "outputs": [
    {
     "data": {
      "image/png": "[encoded data removed]",
      "text/plain": [
       "<matplotlib.figure.Figure at 0x7fe0ac460110>"
      ]
     },
     "metadata": {},
     "output_type": "display_data"
    }
   ],
   "source": [
    "import matplotlib\n",
    "import numpy as np\n",
    "import matplotlib.pyplot as plt\n",
    "%matplotlib inline\n",
    "\n",
    "# First graph: kernel vs application code size\n",
    "# Minimal application doing nothing\n",
    "ktext = 0x0430af\n",
    "kdata = 0x58b568\n",
    "kbss = 0xe3bb60\n",
    "text = 0x002e1e\n",
    "data = 0x000118\n",
    "bss = 0x000348\n",
    "rodata = 0x009330\n",
    "\n",
    "fig, ax = plt.subplots(figsize=(3,3))\n",
    "ax.set_axisbelow(True)\n",
    "\n",
    "ax.pie([ktext, text], labels=[\".ktext\\n(0x0430af)\", \".text\\n(0x002e1e)\"],\n",
    "      autopct='%1.1f%%', shadow=True)\n",
    "\n",
    "#ax.grid()\n",
    "#ax.bar([1], ktext, label=\"kernel code size\")\n",
    "#ax.bar([1], text, bottom=ktext, label=\"application code size\")\n",
    "\n",
    "plt.savefig(\"ktext-vs-text.pdf\", bbox_inches='tight')\n",
    "plt.show()\n"
   ]
  },
  {
   "cell_type": "code",
   "execution_count": 23,
   "metadata": {},
   "outputs": [],
   "source": [
    "import matplotlib\n",
    "import numpy as np\n",
    "import matplotlib.pyplot as plt\n",
    "%matplotlib inline"
   ]
  }
 ],
 "metadata": {
  "kernelspec": {
   "display_name": "Python 2",
   "language": "python",
   "name": "python2"
  },
  "language_info": {
   "codemirror_mode": {
    "name": "ipython",
    "version": 2
   },
   "file_extension": ".py",
   "mimetype": "text/x-python",
   "name": "python",
   "nbconvert_exporter": "python",
   "pygments_lexer": "ipython2",
   "version": "2.7.13"
  }
 },
 "nbformat": 4,
 "nbformat_minor": 2
}
